{
 "cells": [
  {
   "cell_type": "markdown",
   "metadata": {},
   "source": [
    "<center>\n",
    "    <a href=\"https://www.aims-senegal.org/\" ><img src=\"aimssn_logo.png\" style=\"float:center; max-width: 600px; display: inline\" alt=\"IMSP\"/> </a>\n",
    "    </center>\n",
    "    \n",
    "#    <center> <b> <span style=\"color:orange;\" >  `Python for Scientific Computing and Software Engineering ` </span> </b></center>\n",
    "\n",
    "\n",
    "## <center> <b> <span style=\"color:orange;\"> An Initiation to Programming using Python (Init2Py) </span> </b></center>\n",
    "\n",
    "### <center> <b> <span style=\"color:blue;\"> Practicals: Variables, Types & Operations </span> </b></center>"
   ]
  },
  {
   "cell_type": "markdown",
   "metadata": {},
   "source": [
    "**Exercise 00:**  \n",
    "\n",
    "> 1. Declare a variable `firstname` and assign it a value.\n",
    "> 2. Declare a `lastname` variable and assign a value to it.\n",
    "> 3. Declare a `full_name` variable and assign it a value.\n",
    "> 4. Declare a `country` variable and assign it a value.\n",
    "> 5. Declare a variable `city` and assign it a value.\n",
    "> 6. Declare a `age` variable and assign it a value.\n",
    "> 7. Declare a variable `year` and assign it a value.\n",
    "> 8. Declare a variable `is_marrie` and assign it a value.\n",
    "> 9. Declare a variable `is_true` and assign it a value.\n",
    "\n",
    "> For each of the above variable, display the value it contains using the `print()` function.\n",
    "\n",
    "\n"
   ]
  },
  {
   "cell_type": "markdown",
   "metadata": {},
   "source": [
    "\n",
    "\n"
   ]
  },
  {
   "cell_type": "markdown",
   "metadata": {},
   "source": [
    "**Exercise 01:** \n",
    "> Check the data type of all your variables using the built-in function `type()`.**\n"
   ]
  },
  {
   "cell_type": "code",
   "execution_count": 11,
   "metadata": {},
   "outputs": [
    {
     "name": "stdout",
     "output_type": "stream",
     "text": [
      "Binetou\n",
      "LO\n",
      "Binetou LO\n",
      "AFRIQUE\n",
      "Senegal\n",
      "20\n",
      "1980\n",
      "False\n",
      "True\n"
     ]
    }
   ],
   "source": [
    "firstname= \"Binetou\"\n",
    "lastname= \"LO\"\n",
    "fullname= \"Binetou LO\"\n",
    "country= \"AFRIQUE\"\n",
    "city= \"Senegal\"\n",
    "age= 20\n",
    "year= 1980\n",
    "is_marrie= False\n",
    "is_true= True\n",
    "\n",
    "print(firstname)\n",
    "print(lastname)\n",
    "print(fullname)\n",
    "print(country)\n",
    "print(city)\n",
    "print(age)\n",
    "print(year)\n",
    "print(is_marrie)\n",
    "print(is_true)\n",
    "\n",
    "\n"
   ]
  },
  {
   "cell_type": "code",
   "execution_count": 15,
   "metadata": {},
   "outputs": [
    {
     "name": "stdout",
     "output_type": "stream",
     "text": [
      "<class 'str'>\n",
      "<class 'str'>\n",
      "<class 'str'>\n",
      "<class 'str'>\n",
      "<class 'str'>\n",
      "<class 'int'>\n",
      "<class 'int'>\n",
      "<class 'bool'>\n",
      "<class 'bool'>\n"
     ]
    }
   ],
   "source": [
    "print(type(firstname))\n",
    "print(type(lastname))\n",
    "print(type(fullname))\n",
    "print(type(country))\n",
    "print(type(city))\n",
    "print(type(age))\n",
    "print(type(year))\n",
    "print(type(is_marrie))\n",
    "print(type(is_true))\n",
    "\n",
    "\n",
    "\n"
   ]
  },
  {
   "cell_type": "markdown",
   "metadata": {},
   "source": [
    "**Exercise 02:** \n",
    "> Calculate the value of $y$ ($y = x^2 + 6x + 9$). Try using different values of $x$ and determine at what value of $x$ will $y$ be equal to 0.**"
   ]
  },
  {
   "cell_type": "code",
   "execution_count": 21,
   "metadata": {},
   "outputs": [
    {
     "name": "stdout",
     "output_type": "stream",
     "text": [
      "0\n"
     ]
    }
   ],
   "source": [
    "x = -3\n",
    "𝑦 = 𝑥**2+6*𝑥+9\n",
    "print(y)"
   ]
  },
  {
   "cell_type": "markdown",
   "metadata": {},
   "source": [
    "**Exercise 03:** \n",
    ">    \n",
    "     1. Declare your age as an integer variable\n",
    "     2. Declare your height as a float variable\n",
    "     3. Declare a variable that stores the base and height of a triangle. Calculate the area of this triangle (area = 0.5 x b x h)."
   ]
  },
  {
   "cell_type": "code",
   "execution_count": 23,
   "metadata": {},
   "outputs": [
    {
     "name": "stdout",
     "output_type": "stream",
     "text": [
      "donner la base du triangle2\n",
      "donner la hauteur du triangle5\n",
      "la surface de mon triangle est 5.0\n"
     ]
    }
   ],
   "source": [
    "age=int(20)\n",
    "height=float(1.80)\n",
    "base=int(input(\"donner la base du triangle\"))\n",
    "hauteur=int(input(\"donner la hauteur du triangle\"))\n",
    "surface=0.5*base*hauteur\n",
    "print(\"la surface de mon triangle est\",surface)\n"
   ]
  },
  {
   "cell_type": "markdown",
   "metadata": {},
   "source": [
    "## *Tip: receiving input from the user *\n",
    "**To receive an input from the user, we use `input()`.**.\n",
    "\n",
    "**Example**\n",
    "Receive two numbers as input from the user and calculate their power:\n",
    "```python\n",
    "base = input(\"Enter a base: \")\n",
    "exponent = input(\"Enter an exponent: \")\n",
    "result = float(base) ** float(exponent)\n",
    "print(f \"{base} to the power of {exponent} = {result}\")\n",
    "```"
   ]
  },
  {
   "cell_type": "markdown",
   "metadata": {},
   "source": [
    "**Exercise 04:** \n",
    "> **Write a small code that asks the user to enter the side $a$, the side $b$ and the side $c$ of a triangle. Calculate the perimeter of the triangle (perimeter = a + b + c).**"
   ]
  },
  {
   "cell_type": "code",
   "execution_count": 26,
   "metadata": {},
   "outputs": [
    {
     "name": "stdout",
     "output_type": "stream",
     "text": [
      "donner le cote1 du triangle6\n",
      "donner le cote2 du triangle9.6\n",
      "donner le cote3 c du triangle4\n",
      "le perimetre de mon triangle est 19.6\n"
     ]
    }
   ],
   "source": [
    "a=float(input(\"donner le cote1 du triangle\"))\n",
    "b=float(input(\"donner le cote2 du triangle\"))\n",
    "c=float(input(\"donner le cote3 c du triangle\"))\n",
    "perimetre=a+b+c\n",
    "print(\"le perimetre de mon triangle est\",perimetre)"
   ]
  },
  {
   "cell_type": "code",
   "execution_count": null,
   "metadata": {},
   "outputs": [],
   "source": []
  },
  {
   "cell_type": "markdown",
   "metadata": {},
   "source": [
    "**Exercise 05:** \n",
    "> **Obtain the length and width of a rectangle using the prompt. Calculate its `area`and its `perimeter`.**"
   ]
  },
  {
   "cell_type": "code",
   "execution_count": 28,
   "metadata": {},
   "outputs": [
    {
     "name": "stdout",
     "output_type": "stream",
     "text": [
      "donner la longeur du triangle7\n",
      "donner la largeur du triangle9.7\n",
      "l`aire de mon triangle est 33.4\n",
      "le perimetre de mon triangle est 67.89999999999999\n"
     ]
    }
   ],
   "source": [
    "a=float(input(\"donner la longeur du triangle\"))\n",
    "b=float(input(\"donner la largeur du triangle\"))\n",
    "aire=(a+b)*2\n",
    "perimetre=a*b\n",
    "print(\"l`aire de mon triangle est\",aire)\n",
    "print(\"le perimetre de mon triangle est\",perimetre)"
   ]
  },
  {
   "cell_type": "markdown",
   "metadata": {},
   "source": [
    "**Exercice 06:** \n",
    "> **Obtenez le rayon d'un cercle en utilisant l'invite. Calculez l'aire (aire = pi x r x r) et la circonférence (c = 2 x pi x r) où pi = 3,14.**"
   ]
  },
  {
   "cell_type": "code",
   "execution_count": 29,
   "metadata": {},
   "outputs": [
    {
     "name": "stdout",
     "output_type": "stream",
     "text": [
      "donner le rayon du cercle8\n",
      "l`aire de mon cercle est 200.96\n",
      "la circonference de mon cercle est 50.24\n"
     ]
    }
   ],
   "source": [
    "r=float(input(\"donner le rayon du cercle\"))\n",
    "aire=3.14*r*r\n",
    "circonference=2*3.14*r\n",
    "print(\"l`aire de mon cercle est\",aire)\n",
    "print(\"la circonference de mon cercle est\",circonference)\n",
    "\n"
   ]
  },
  {
   "cell_type": "markdown",
   "metadata": {},
   "source": [
    "**Exercice 07:**\n",
    "> **Calculez la pente, l'ordonnée à l'origine en x et l'ordonnée à l'origine en $y$ de $y = 2x -2$.**"
   ]
  },
  {
   "cell_type": "code",
   "execution_count": 31,
   "metadata": {},
   "outputs": [
    {
     "name": "stdout",
     "output_type": "stream",
     "text": [
      "la pente est  2\n",
      "l`ordonner a l`origine en x est -2\n",
      "l`ordonner a l`origne en y est 1\n"
     ]
    }
   ],
   "source": [
    "print(\"la pente est \",2)\n",
    "print(\"l`ordonner a l`origine en x est\",-2)\n",
    "print(\"l`ordonner a l`origne en y est\", 1)"
   ]
  },
  {
   "cell_type": "markdown",
   "metadata": {},
   "source": [
    "**Exercice 08:** \n",
    "> **Rédigez un script qui demande à l'utilisateur d'entrer les heures et le taux horaire. Calculez la rémunération de la personne ?**"
   ]
  },
  {
   "cell_type": "code",
   "execution_count": 41,
   "metadata": {},
   "outputs": [
    {
     "name": "stdout",
     "output_type": "stream",
     "text": [
      "donner l`heure de depart18\n",
      "donner l`heure d`arrive8\n",
      "donner le taux horaire16\n",
      "la remuneration de la personne est 16161616161616161616\n"
     ]
    }
   ],
   "source": [
    "a=int(input(\"donner l`heure de depart\"))\n",
    "b=int(input(\"donner l`heure d`arrive\"))\n",
    "t=(input(\"donner le taux horaire\"))\n",
    "r=(a-b)*t\n",
    "print(\"la remuneration de la personne est\",r)"
   ]
  },
  {
   "cell_type": "markdown",
   "metadata": {},
   "source": [
    "**Exercice 09:** \n",
    "> **Écrivez un script qui demande à l'utilisateur d'entrer le nombre d'années. Calculez le nombre de secondes qu'une personne peut vivre. Supposons qu'une personne puisse vivre cent ans.**"
   ]
  },
  {
   "cell_type": "code",
   "execution_count": 43,
   "metadata": {},
   "outputs": [
    {
     "name": "stdout",
     "output_type": "stream",
     "text": [
      "donner le nombre d`annee100\n",
      "le nombre de seconde est 3153600000\n"
     ]
    }
   ],
   "source": [
    "a=int(input(\"donner le nombre d`annee\"))\n",
    "n=a*31536000\n",
    "print(\"le nombre de seconde est\",n)"
   ]
  },
  {
   "cell_type": "markdown",
   "metadata": {},
   "source": [
    "**Exercice 10:** \n",
    "> **Écrivez un script Python qui affiche le tableau suivant**\n",
    "\n",
    "    1 1 1 1 1\n",
    "    \n",
    "    2 1 2 4 8\n",
    "    \n",
    "    3 1 3 9 27\n",
    "    \n",
    "    4 1 4 16 64\n",
    "    \n",
    "    5 1 5 25 125"
   ]
  },
  {
   "cell_type": "code",
   "execution_count": 44,
   "metadata": {},
   "outputs": [
    {
     "name": "stdout",
     "output_type": "stream",
     "text": [
      "1 1 1 1 1\n",
      "2 1 2 4 8\n",
      "3 1 3 9 27\n",
      "4 1 4 16 64\n",
      "5 1 5 25 125\n"
     ]
    }
   ],
   "source": [
    "print(\"1 1 1 1 1\")\n",
    "print(\"2 1 2 4 8\")\n",
    "print(\"3 1 3 9 27\")\n",
    "print(\"4 1 4 16 64\")\n",
    "print(\"5 1 5 25 125\")\n",
    "\n"
   ]
  },
  {
   "cell_type": "markdown",
   "metadata": {},
   "source": [
    "**Exercise 11:** \n",
    ">**Assign the variables `time` and `distance` with the values $6.892$ and $19.7$. Calculate and display the value of the speed. Improve the display by imposing a digit after the decimal point.**"
   ]
  },
  {
   "cell_type": "code",
   "execution_count": 54,
   "metadata": {},
   "outputs": [
    {
     "name": "stdout",
     "output_type": "stream",
     "text": [
      "la vitesse est 2.9\n"
     ]
    }
   ],
   "source": [
    "t=float(6.892)\n",
    "d=float(19.7)\n",
    "v=d/t\n",
    "k=round(v,1)\n",
    "print(\"la vitesse est\",k)"
   ]
  },
  {
   "cell_type": "markdown",
   "metadata": {},
   "source": [
    "**Exercice 12:** \n",
    "> **Écrire un programme qui, à partir de la saisie d’un rayon et d’une hauteur, calcule levolume d’un cône droit.**"
   ]
  },
  {
   "cell_type": "code",
   "execution_count": 55,
   "metadata": {},
   "outputs": [
    {
     "name": "stdout",
     "output_type": "stream",
     "text": [
      "donner l`aire de base9\n",
      "donner la hauteur6\n",
      "le volume est egal 18.0\n"
     ]
    }
   ],
   "source": [
    "a=float(input(\"donner l`aire de base\",))\n",
    "h=float(input(\"donner la hauteur\",))\n",
    "v=(a*h)/3\n",
    "  r1= int(input(\"donner le premier resultat de:\" ))\n",
    "      r2= (int(input(\"donner le deuxieme resultat de:\" )) "
   ]
  },
  {
   "cell_type": "markdown",
   "metadata": {},
   "source": [
    "**Exercise 13:** \n",
    "> **The user gives a positive integer and the program announces how many times in a row this integer is divisible by 2.**"
   ]
  },
  {
   "cell_type": "code",
   "execution_count": 63,
   "metadata": {},
   "outputs": [
    {
     "name": "stdout",
     "output_type": "stream",
     "text": [
      "donner un entier8\n",
      "le resultat est 3\n"
     ]
    }
   ],
   "source": [
    "a=int(input(\"donner un entier\"))\n",
    "l=0\n",
    "while(a%2==0):\n",
    "  l=l+1\n",
    "  a=a/2\n",
    "print(\"le resultat est\",l)"
   ]
  },
  {
   "cell_type": "markdown",
   "metadata": {},
   "source": [
    "**Exercise 14:** \n",
    ">**The user gives an integer between 2 and 12, the program gives the number of ways to do this by rolling two dice."
   ]
  },
  {
   "cell_type": "code",
   "execution_count": 2,
   "metadata": {},
   "outputs": [
    {
     "name": "stdout",
     "output_type": "stream",
     "text": [
      "donner un a qui est entre 2 et 12:8\n",
      "donner le premier resultat de:4\n",
      "donner le deuxieme resultat de:4\n",
      "le jeux est bon\n"
     ]
    }
   ],
   "source": [
    "a= int(input(\"donner un a qui est entre 2 et 12:\"))\n",
    "r1= int(input(\"donner le premier resultat de:\" ))\n",
    "r2= int(input(\"donner le deuxieme resultat de:\" ))\n",
    "while(a!=r1+r2): \n",
    "       r1= int(input(\"donner le premier resultat de:\" ))\n",
    "       r2= int(input(\"donner le deuxieme resultat de:\" ))\n",
    "                 \n",
    "print(\"le jeux est bon\",) "
   ]
  },
  {
   "cell_type": "markdown",
   "metadata": {},
   "source": [
    "**Exercice 15:** \n",
    "> **Utilisez la fonction d'entrée intégrée `input()` pour obtenir le `_prénom_`, le `_nom_`, le `_pays_d_origine` et l'`_age_` d'un utilisateur et stockez la valeur dans les noms des variables correspondantes.**"
   ]
  },
  {
   "cell_type": "code",
   "execution_count": 3,
   "metadata": {},
   "outputs": [
    {
     "name": "stdout",
     "output_type": "stream",
     "text": [
      "donner le prenomBINETOU\n",
      "donner le nomLO\n",
      "donner le paysSENEGAL\n",
      "donner l`age20\n",
      "le prenom est BINETOU\n",
      "le nom est LO\n",
      "le age est 20\n"
     ]
    }
   ],
   "source": [
    "prenom= str(input(\"donner le prenom\"))\n",
    "nom= str(input(\"donner le nom\"))\n",
    "pays= str(input(\"donner le pays\"))\n",
    "age= int(input(\"donner l`age\"))\n",
    "print(\"le prenom est\",prenom)\n",
    "print(\"le nom est\",nom)\n",
    "print(\"le age est\",age)\n"
   ]
  },
  {
   "cell_type": "markdown",
   "metadata": {},
   "source": [
    "**Exercice 16:** \n",
    "\n",
    "**Déclarer $5$ comme `num_one` et $4$ comme `num_two`**\n",
    "\n",
    "   1. Additionner `num_one` et `num_two` et affecter la valeur à une variable `totale`.\n",
    "   2. Soustraire `num_two` de `num_one` et affecter la valeur à une variable `diff`.\n",
    "   3. Multipliez le `num_one` et le `num_two` et attribuez la valeur à une variable `produit`.\n",
    "   4. Divisez le `num_one` par le `num_two` et attribuez la valeur à une variable `division`.\n",
    "   5. Calculez `num_one` à la puissance de `num_two` et attribuez la valeur à une variable `exp`."
   ]
  },
  {
   "cell_type": "code",
   "execution_count": 64,
   "metadata": {},
   "outputs": [
    {
     "name": "stdout",
     "output_type": "stream",
     "text": [
      "l`addition est 9\n",
      "la soustraction est -1\n",
      "la multiplication est 20\n",
      "la division est 1.25\n",
      "le resutat est 625\n"
     ]
    }
   ],
   "source": [
    "num_one= (5)\n",
    "num_two= (4)\n",
    "totale=num_one+num_two\n",
    "diff=num_two-num_one\n",
    "produit=num_one*num_two\n",
    "division=num_one/num_two\n",
    "exp=num_one**num_two\n",
    "print(\"l`addition est\",totale)\n",
    "print(\"la soustraction est\",diff)\n",
    "print(\"la multiplication est\",produit)\n",
    "print(\"la division est\",division)\n",
    "print(\"le resutat est\",exp)"
   ]
  },
  {
   "cell_type": "markdown",
   "metadata": {},
   "source": [
    "<center> <b> <span style=\"color:orange;\"> 🎉 FÉLICITATIONS! / CONGRATULATIONS! 🎉 </span> </b></center>"
   ]
  }
 ],
 "metadata": {
  "kernelspec": {
   "display_name": "Python 3",
   "language": "python",
   "name": "python3"
  },
  "language_info": {
   "codemirror_mode": {
    "name": "ipython",
    "version": 3
   },
   "file_extension": ".py",
   "mimetype": "text/x-python",
   "name": "python",
   "nbconvert_exporter": "python",
   "pygments_lexer": "ipython3",
   "version": "3.7.3"
  }
 },
 "nbformat": 4,
 "nbformat_minor": 5
}
